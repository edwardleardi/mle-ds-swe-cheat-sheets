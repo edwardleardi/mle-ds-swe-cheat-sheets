{
 "cells": [
  {
   "cell_type": "markdown",
   "metadata": {},
   "source": [
    "### Intro\n",
    "\n",
    "Breadth first search (BFS), also known as a level order traversal, is a graph traversal algorithm most often used in interviews to find the shortest path between two vertices in an unweighted graph. BFS questions are my favorite to recieve in interviews because the interview prompt almost always gives it away that you want to use a BFS by mentioning a word like \"shortest\" or \"least\" and because BFS is very straightforward to implement. Typically the only tricky part of a BFS is determining how to generate the current node's neighbors, although this is usually very obvious. In a 2-dimensional array for instance a grid cell's neighbors are most often the adjacent grid cells."
   ]
  },
  {
   "cell_type": "markdown",
   "metadata": {},
   "source": [
    "### Template"
   ]
  },
  {
   "cell_type": "code",
   "execution_count": null,
   "metadata": {},
   "outputs": [],
   "source": [
    "from collections import deque                    # use deque to implement a queue in python with O(1) FIFO operations\n",
    "\n",
    "queue = deque([start_node])                      # initiate the queue\n",
    "visited = set([start_node])                      # track visited nodes using a set to avoid revisiting nodes in a cyclic graph\n",
    "depth = 0                                        # track the depth the BFS reaches\n",
    "\n",
    "while queue:                                     # while the queue exists, traverse another level\n",
    "    for _ in range(len(queue)):                  # crucial line, pop the queue as many times as there are nodes in the current level\n",
    "        curr_node = queue.popleft()\n",
    "        if curr_node == target_node:             # stop condition, if we've found what we're looking for, return the depth\n",
    "            return depth\n",
    "\n",
    "        for neighbor in curr_node.neighbors:     # otherwise iterate through curr_node's neighbor nodes\n",
    "            if neighbor not in visited:\n",
    "                queue.append(neighbor)           # append neighbor to next level\n",
    "                visited.add(neighbor)            # add neighbor to visited set now so that it isn't readded to queue by future node\n",
    "\n",
    "    depth += 1                                   # after traversing current level, increment depth\n",
    "\n",
    "return -1                                        # if we never hit our stop condition, return unsuccessful search"
   ]
  },
  {
   "cell_type": "markdown",
   "metadata": {},
   "source": [
    "### Examples"
   ]
  },
  {
   "cell_type": "markdown",
   "metadata": {},
   "source": [
    "**[LC 752. Open the Lock](https://leetcode.com/problems/open-the-lock/) [Medium]**\n",
    "\n",
    "This is a classic LeetCode problem where you're given a 4 digit lock and are tasked with finding the least amount of lock turns needed to get from combo `'0000'` to `target` without hitting a combo in `deadends` along the way. A lock turn consists of turning one wheel by one slot e.g. `'0000'` -> `'0001'`. Digits consist of the numbers 0-9.\n",
    "\n",
    "You can think of this as an undirected graph problem where the vertices are valid lock combos and the edges connect lock combos that can be reached in one turn from one another. The fact that we are searching for the least number of lock turns tells us BFS is a great candidate for solving this problem since the first time we reach the `target` combo during our BFS traversal must be in the least number of turns.\n",
    "\n",
    "Note: you'll notice the solution implements the `neighbors()` function as a generator which is always good practice to do in an interview. "
   ]
  },
  {
   "cell_type": "code",
   "execution_count": null,
   "metadata": {},
   "outputs": [],
   "source": [
    "from collections import deque\n",
    "\n",
    "def openLock(deadends: list[str], target: str) -> int:\n",
    "    \n",
    "    def neighbors(combo: str):                          # generator for yeilding neighboring lock combos given a lock combo\n",
    "        for i in range(4):                              # for each lock digit\n",
    "            x = int(combo[i])\n",
    "            for d in (-1, 1):                           # for each direction the lock can be spun by one unit\n",
    "                y = (x + d) % 10                        # mod by 10 since there are 10 digits, for when we spin to -1 or to 10\n",
    "                yield combo[:i] + str(y) + combo[i+1:]\n",
    "\n",
    "    queue = deque(['0000'])\n",
    "    visited = set(deadends + ['0000'])                  # combine deadends with visited combos since we don't want to visit/revisit either\n",
    "    depth = 0\n",
    "\n",
    "    while queue:\n",
    "        for _ in range(len(queue)):\n",
    "            curr_combo = queue.popleft()\n",
    "            if curr_combo == target:\n",
    "                return depth\n",
    "\n",
    "            for nei_combo in neighbors(curr_combo):\n",
    "                if nei_combo not in visited:\n",
    "                    queue.append(nei_combo)\n",
    "                    visited.add(nei_combo)\n",
    "\n",
    "        depth += 1\n",
    "\n",
    "    return -1                                           # return -1 if impossible to reach target combo"
   ]
  },
  {
   "cell_type": "markdown",
   "metadata": {},
   "source": [
    "**[LC 286. Walls and Gates](https://leetcode.com/problems/walls-and-gates/) [Medium]**\n",
    "\n",
    "Walls and gates is another classic LeetCode problem where you're given a 2-dimensional array where values in the array represent walls (`-1`), gates (`0`), or empty rooms (`2**31 - 1`). Our task is to modify the input array in place by filling in each empty room with an integer representing the length of the path to the room's nearest gate.\n",
    "\n",
    "Again you see the word \"nearest\" so you consider if this problem can be modeled as a graph. 2-dimensional array problems are quite common on LeetCode and can be thought of as graphs in the sense that each cell in the grid is a vertex, while edge's connect the cells adjacent neighbors. In this problem, paths to gates must be 4-directional (meaning a neighboring cell can be north, south, east, or west of the current cell, this is different from 8-directional where neighbors can additionally be north-east, north-west, south-east, south-west of the current cell).\n",
    "\n",
    "With this in mind your first thought might be to traverse the array and run a BFS every time we encounter a gate. While this is a valid strategy it would result in running multiple BFS's. A more optimal way of solving this problem is instead traversing the entire array and recording the coordinates of every gate. We then run a single BFS using the prerecorded gate coordinates as the starting nodes in the 1st level of our BFS. This way we only need to run a BFS once!\n",
    "\n",
    "Note: there's no need for tracking a `visited` set in this problem since we already know visited cells have a value not equal to `2**31 - 1`."
   ]
  },
  {
   "cell_type": "code",
   "execution_count": null,
   "metadata": {},
   "outputs": [],
   "source": [
    "from collections import deque\n",
    "\n",
    "def wallsAndGates(self, rooms: list[list[int]]) -> None:\n",
    "    m, n = len(rooms), len(rooms[0])                               # record dims of the input array\n",
    "    queue = deque()\n",
    "    for i in range(m):                                             # iterate through the array and record coords of every gate\n",
    "        for j in range(n):\n",
    "            if rooms[i][j] == 0:\n",
    "                queue.append((i,j))\n",
    "                \n",
    "    depth = 1\n",
    "    \n",
    "    while queue:                                                   # run a single BFS starting with the gates found earlier\n",
    "        for _ in range(len(queue)):\n",
    "            curr_room = queue.popleft()\n",
    "            i, j = curr_room\n",
    "            for nei_room in [(i-1,j), (i,j+1), (i+1,j), (i,j-1)]:  # iterate through 4-directional neighbor rooms\n",
    "                nei_i, nei_j = nei_room\n",
    "                if 0 <= nei_i < m and 0 <= nei_j < n and rooms[nei_i][nei_j] == 2**31 - 1:  # filter for valid neighbors\n",
    "                    rooms[nei_i][nei_j] = depth\n",
    "                    queue.append(nei_room)\n",
    "\n",
    "        depth += 1"
   ]
  },
  {
   "cell_type": "markdown",
   "metadata": {},
   "source": [
    "**[LC 127. Word Ladder](https://leetcode.com/problems/word-ladder/) [Hard]**\n",
    "\n",
    "This one I actually got in a FAANG interview, it's labeled hard on LeetCode but shouldn't be too bad now that you understand the BFS pattern. The problem asks us what's the shortest way to get from a starting word `beginWord` to a target word `endWord`. At each step we can only change one letter in our current word, and the new resulting word must be in our word dictionary `wordList`. Return `0` if it's not possible to reach `endWord`.\n",
    "\n",
    "Treat the words as vertices, each word's neighbors are all the possible words you can get by changing any letter in the current word to any other letter in the alphabet with the added caveat that the new word must be a word in `wordList`."
   ]
  },
  {
   "cell_type": "code",
   "execution_count": null,
   "metadata": {},
   "outputs": [],
   "source": [
    "from collections import deque\n",
    "\n",
    "class Solution:\n",
    "    def ladderLength(self, beginWord: str, endWord: str, wordList: list[str]) -> int:\n",
    "        \n",
    "        def neighbors(word: str):                          # generator for yeilding neighboring words given a word\n",
    "            letters = 'abcdefghijklmnopqrstuvwxyz'\n",
    "            for i in range(len(word)):                     # for each letter in given word\n",
    "                for l in letters:                          # for each letter in the alphabet\n",
    "                    yield word[:i] + l + word[i+1:]        # construct candidate neighbor word\n",
    "        \n",
    "        queue = deque([beginWord])\n",
    "        visited = set([beginWord])\n",
    "        wordList = set(wordList)                           # convert wordList to a set so we can search it in O(1)\n",
    "        depth = 1\n",
    "        \n",
    "        while queue:\n",
    "            for _ in range(len(queue)):\n",
    "                curr_word = queue.popleft()\n",
    "                if curr_word == endWord:\n",
    "                    return depth\n",
    "\n",
    "                for nei_word in neighbors(curr_word):\n",
    "                    if nei_word in wordList and nei_word not in visited:  # check if neighbor word is a valid neighbor to visit\n",
    "                        queue.append(nei_word)\n",
    "                        visited.add(nei_word)\n",
    "\n",
    "            depth += 1\n",
    "\n",
    "        return 0"
   ]
  }
 ],
 "metadata": {
  "kernelspec": {
   "display_name": "Python 3.9.2 ('python3')",
   "language": "python",
   "name": "python3"
  },
  "language_info": {
   "name": "python",
   "version": "3.9.2"
  },
  "orig_nbformat": 4,
  "vscode": {
   "interpreter": {
    "hash": "1067d89b133359ff516dd48fd5702c37e5cf864f119fe7c90dd9df35ad834079"
   }
  }
 },
 "nbformat": 4,
 "nbformat_minor": 2
}
